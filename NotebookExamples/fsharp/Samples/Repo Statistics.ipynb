{
 "cells": [
  {
   "cell_type": "markdown",
   "metadata": {},
   "source": [
    "# dotnet/fsharp Github Dashboard <img src =\"https://upload.wikimedia.org/wikipedia/commons/thumb/3/38/Jupyter_logo.svg/207px-Jupyter_logo.svg.png\" width=\"60px\" alt=\"dotnet bot in space\" align =\"right\">\n",
    "\n",
    "### Add NuGet package references"
   ]
  },
  {
   "cell_type": "code",
   "execution_count": 1,
   "metadata": {},
   "outputs": [
    {
     "data": {
      "text/html": [
       "Installing package Octokit, version 0.32.0.done!"
      ]
     },
     "metadata": {},
     "output_type": "display_data"
    },
    {
     "data": {
      "text/html": [
       "Installing package NodaTime, version 2.4.6.done!"
      ]
     },
     "metadata": {},
     "output_type": "display_data"
    }
   ],
   "source": [
    "#r \"nuget:Octokit, 0.32.0\"\n",
    "#r \"nuget:NodaTime, 2.4.6\"\n",
    "\n",
    "open Octokit\n",
    "open NodaTime\n",
    "open NodaTime.Extensions\n",
    "open XPlot.Plotly"
   ]
  },
  {
   "cell_type": "markdown",
   "metadata": {},
   "source": [
    "### Setup\n",
    "\n",
    "Create a GitHub public API client"
   ]
  },
  {
   "cell_type": "code",
   "execution_count": 2,
   "metadata": {},
   "outputs": [],
   "source": [
    "let organization = \"dotnet\"\n",
    "let repositoryName = \"fsharp\"\n",
    "let options = ApiOptions()\n",
    "let gitHubClient = GitHubClient(ProductHeaderValue(\"notebook\"))"
   ]
  },
  {
   "cell_type": "markdown",
   "metadata": {},
   "source": [
    "[Generate a user token](https://help.github.com/en/github/authenticating-to-github/creating-a-personal-access-token-for-the-command-line) to get rid of public [api](https://github.com/octokit/octokit.net/blob/master/docs/getting-started.md) throttling policies for anonymous users "
   ]
  },
  {
   "cell_type": "code",
   "execution_count": 1,
   "metadata": {},
   "outputs": [],
   "source": [
    "// let tokenAuth = Credentials(\"YOUR-TOKEN-HERE\")\n",
    "// gitHubClient.Credentials <- tokenAuth"
   ]
  },
  {
   "cell_type": "code",
   "execution_count": 4,
   "metadata": {},
   "outputs": [],
   "source": [
    "let today = SystemClock.Instance.InUtc().GetCurrentDate()\n",
    "let startOfTheMonth = today.With(DateAdjusters.Month(1))\n",
    "let startOfTheYear = LocalDate(today.Year, 1, 1).AtMidnight()\n",
    "\n",
    "let since t = Nullable(DateTimeOffset(t))"
   ]
  },
  {
   "cell_type": "markdown",
   "metadata": {},
   "source": [
    "Query GitHub for : \n",
    "- Issues created this month\n",
    "- Issues closed this month\n",
    "- Every issue this year"
   ]
  },
  {
   "cell_type": "code",
   "execution_count": 5,
   "metadata": {},
   "outputs": [],
   "source": [
    "let createdIssuesRequest =\n",
    "    RepositoryIssueRequest(\n",
    "        Since = since (startOfTheMonth.ToDateTimeUnspecified()),\n",
    "        Filter = IssueFilter.Created)\n",
    "let closedIssuesRequest =\n",
    "    new RepositoryIssueRequest(\n",
    "                Since = since (startOfTheMonth.ToDateTimeUnspecified()),\n",
    "                State = ItemStateFilter.Closed)\n",
    "let thisYearIssuesRequest =\n",
    "    RepositoryIssueRequest(\n",
    "        Since = since (startOfTheYear.ToDateTimeUnspecified()),\n",
    "        State = ItemStateFilter.All)"
   ]
  },
  {
   "cell_type": "markdown",
   "metadata": {},
   "source": [
    "Start pulling data via the GitHub API"
   ]
  },
  {
   "cell_type": "code",
   "execution_count": 8,
   "metadata": {},
   "outputs": [],
   "source": [
    "let createdThisMonthTask =\n",
    "    async {\n",
    "        return!\n",
    "            gitHubClient.Issue.GetAllForRepository(organization, repositoryName, createdIssuesRequest)\n",
    "            |> Async.AwaitTask\n",
    "    }\n",
    "\n",
    "let closedThisMonthTask =\n",
    "    async {\n",
    "        return!\n",
    "            gitHubClient.Issue.GetAllForRepository(organization, repositoryName, closedIssuesRequest)\n",
    "            |> Async.AwaitTask\n",
    "    }\n",
    "\n",
    "let thisYearIssuesTask =\n",
    "    async {\n",
    "        return!\n",
    "            gitHubClient.Issue.GetAllForRepository(organization, repositoryName, thisYearIssuesRequest)\n",
    "            |> Async.AwaitTask\n",
    "    }\n",
    "\n",
    "let results =\n",
    "    [| createdThisMonthTask; closedThisMonthTask; thisYearIssuesTask |]\n",
    "    |> Async.Parallel\n",
    "    |> Async.RunSynchronously\n",
    "\n",
    "let createdThisMonth = results.[0]\n",
    "let closedThisMonth = results.[1]\n",
    "let thisYearIssues = results.[2]"
   ]
  },
  {
   "cell_type": "markdown",
   "metadata": {},
   "source": [
    "Group open and closed issues by month"
   ]
  },
  {
   "cell_type": "code",
   "execution_count": 9,
   "metadata": {},
   "outputs": [],
   "source": [
    "let openSoFar =\n",
    "    createdThisMonth\n",
    "    |> Seq.sortBy (fun i -> i.CreatedAt)\n",
    "    |> Seq.filter (fun i -> i.State.StringValue = \"open\")\n",
    "\n",
    "let openByMonthOfCreation =\n",
    "    openSoFar\n",
    "    |> Seq.groupBy (fun i -> {| Year = i.CreatedAt.Year; Month = i.CreatedAt.Month |})\n",
    "    |> Seq.map (fun (key, issues) -> {| Date = key; Count = issues.Count() |})\n",
    "    \n",
    "let closedSoFar =\n",
    "    thisYearIssues\n",
    "    |> Seq.sortBy (fun i -> i.CreatedAt)\n",
    "    |> Seq.filter (fun i -> i.State.StringValue = \"closed\")\n",
    "\n",
    "let closedByMonthOfClosure =\n",
    "    closedSoFar\n",
    "    |> Seq.groupBy (fun i -> {| Year = i.ClosedAt.Value.Year; Month = i.ClosedAt.Value.Month |})\n",
    "    |> Seq.map (fun (key, issues) ->  {| Date = key; Count = issues.Count() |})\n",
    "\n",
    "let openCountByMonth =\n",
    "    let mutable runningTotal = thisYearIssues.Count\n",
    "    \n",
    "    closedSoFar\n",
    "    |> List.ofSeq\n",
    "    |> List.groupBy (fun i -> {| Year = i.CreatedAt.Year; Month = i.CreatedAt.Month |})\n",
    "    |> List.map (fun (key, issues) ->\n",
    "                   let dataPoint = {| Date = key; Count = issues.Count() |}\n",
    "                   dataPoint)"
   ]
  },
  {
   "cell_type": "markdown",
   "metadata": {},
   "source": [
    "Show issues opened this month grouped by day "
   ]
  },
  {
   "cell_type": "code",
   "execution_count": 10,
   "metadata": {},
   "outputs": [
    {
     "data": {
      "text/html": [
       "<div id=\"8d2917ba-b2bc-4b4b-90e4-21f98b93cc69\" style=\"width: 900px; height: 500px;\"></div><script type=\"text/javascript\">\n",
       "\r\n",
       "var renderPlotly = function() {\r\n",
       "    var xplotRequire = requirejs.config({context:'xplot-3.0.1',paths:{plotly:'https://cdn.plot.ly/plotly-1.49.2.min'}});\r\n",
       "    xplotRequire(['plotly'], function(Plotly) {\n",
       "\n",
       "            var data = [{\"type\":\"scatter\",\"x\":[\"2019-11-13T00:00:00\",\"2019-11-12T00:00:00\",\"2019-11-11T00:00:00\",\"2019-11-10T00:00:00\",\"2019-11-08T00:00:00\",\"2019-11-07T00:00:00\",\"2019-11-04T00:00:00\",\"2019-11-03T00:00:00\",\"2019-11-01T00:00:00\",\"2019-10-31T00:00:00\",\"2019-10-30T00:00:00\",\"2019-10-29T00:00:00\",\"2019-10-28T00:00:00\",\"2019-10-26T00:00:00\",\"2019-10-25T00:00:00\",\"2019-10-23T00:00:00\",\"2019-10-22T00:00:00\",\"2019-10-21T00:00:00\",\"2019-10-19T00:00:00\",\"2019-10-18T00:00:00\",\"2019-10-17T00:00:00\",\"2019-10-15T00:00:00\",\"2019-10-14T00:00:00\",\"2019-10-11T00:00:00\",\"2019-10-10T00:00:00\",\"2019-10-09T00:00:00\",\"2019-10-08T00:00:00\",\"2019-10-07T00:00:00\",\"2019-10-04T00:00:00\",\"2019-10-03T00:00:00\",\"2019-10-02T00:00:00\",\"2019-10-01T00:00:00\",\"2019-09-30T00:00:00\",\"2019-09-28T00:00:00\",\"2019-09-27T00:00:00\",\"2019-09-26T00:00:00\",\"2019-09-24T00:00:00\",\"2019-09-23T00:00:00\",\"2019-09-22T00:00:00\",\"2019-09-20T00:00:00\",\"2019-09-19T00:00:00\",\"2019-09-18T00:00:00\",\"2019-09-17T00:00:00\",\"2019-09-16T00:00:00\",\"2019-09-12T00:00:00\",\"2019-09-11T00:00:00\",\"2019-09-07T00:00:00\",\"2019-09-05T00:00:00\",\"2019-09-04T00:00:00\",\"2019-09-03T00:00:00\",\"2019-08-31T00:00:00\",\"2019-08-29T00:00:00\",\"2019-08-28T00:00:00\",\"2019-08-27T00:00:00\",\"2019-08-26T00:00:00\",\"2019-08-25T00:00:00\",\"2019-08-23T00:00:00\",\"2019-08-21T00:00:00\",\"2019-08-20T00:00:00\",\"2019-08-19T00:00:00\",\"2019-08-18T00:00:00\",\"2019-08-16T00:00:00\",\"2019-08-15T00:00:00\",\"2019-08-14T00:00:00\",\"2019-08-12T00:00:00\",\"2019-08-11T00:00:00\",\"2019-08-09T00:00:00\",\"2019-08-08T00:00:00\",\"2019-08-05T00:00:00\",\"2019-07-30T00:00:00\",\"2019-07-26T00:00:00\",\"2019-07-25T00:00:00\",\"2019-07-24T00:00:00\",\"2019-07-23T00:00:00\",\"2019-07-20T00:00:00\",\"2019-07-17T00:00:00\",\"2019-07-16T00:00:00\",\"2019-07-12T00:00:00\",\"2019-07-10T00:00:00\",\"2019-07-09T00:00:00\",\"2019-07-03T00:00:00\",\"2019-06-29T00:00:00\",\"2019-06-28T00:00:00\",\"2019-06-27T00:00:00\",\"2019-06-25T00:00:00\",\"2019-06-24T00:00:00\",\"2019-06-23T00:00:00\",\"2019-06-21T00:00:00\",\"2019-06-19T00:00:00\",\"2019-06-18T00:00:00\",\"2019-06-14T00:00:00\",\"2019-06-13T00:00:00\",\"2019-06-12T00:00:00\",\"2019-06-11T00:00:00\",\"2019-06-10T00:00:00\",\"2019-06-08T00:00:00\",\"2019-06-06T00:00:00\",\"2019-06-05T00:00:00\",\"2019-06-04T00:00:00\",\"2019-06-02T00:00:00\",\"2019-05-31T00:00:00\",\"2019-05-28T00:00:00\",\"2019-05-26T00:00:00\",\"2019-05-25T00:00:00\",\"2019-05-23T00:00:00\",\"2019-05-22T00:00:00\",\"2019-05-21T00:00:00\",\"2019-05-20T00:00:00\",\"2019-05-19T00:00:00\",\"2019-05-18T00:00:00\",\"2019-05-17T00:00:00\",\"2019-05-16T00:00:00\",\"2019-05-14T00:00:00\",\"2019-05-13T00:00:00\",\"2019-05-12T00:00:00\",\"2019-05-11T00:00:00\",\"2019-05-09T00:00:00\",\"2019-05-07T00:00:00\",\"2019-05-06T00:00:00\",\"2019-05-04T00:00:00\",\"2019-05-03T00:00:00\",\"2019-05-02T00:00:00\",\"2019-04-29T00:00:00\",\"2019-04-27T00:00:00\",\"2019-04-25T00:00:00\",\"2019-04-24T00:00:00\",\"2019-04-22T00:00:00\",\"2019-04-21T00:00:00\",\"2019-04-20T00:00:00\",\"2019-04-19T00:00:00\",\"2019-04-16T00:00:00\",\"2019-04-15T00:00:00\",\"2019-04-14T00:00:00\",\"2019-04-13T00:00:00\",\"2019-04-12T00:00:00\",\"2019-04-11T00:00:00\",\"2019-04-10T00:00:00\",\"2019-04-08T00:00:00\",\"2019-04-07T00:00:00\",\"2019-04-06T00:00:00\",\"2019-04-04T00:00:00\",\"2019-04-03T00:00:00\",\"2019-04-01T00:00:00\",\"2019-03-29T00:00:00\",\"2019-03-27T00:00:00\",\"2019-03-25T00:00:00\",\"2019-03-22T00:00:00\",\"2019-03-21T00:00:00\",\"2019-03-20T00:00:00\",\"2019-03-19T00:00:00\",\"2019-03-13T00:00:00\",\"2019-03-09T00:00:00\",\"2019-03-08T00:00:00\",\"2019-03-02T00:00:00\",\"2019-02-27T00:00:00\",\"2019-02-26T00:00:00\",\"2019-02-19T00:00:00\",\"2019-02-18T00:00:00\",\"2019-02-16T00:00:00\",\"2019-02-13T00:00:00\",\"2019-02-11T00:00:00\",\"2019-02-10T00:00:00\",\"2019-02-07T00:00:00\",\"2019-02-06T00:00:00\",\"2019-02-05T00:00:00\",\"2019-02-04T00:00:00\",\"2019-02-03T00:00:00\",\"2019-02-01T00:00:00\",\"2019-01-30T00:00:00\",\"2019-01-29T00:00:00\",\"2019-01-28T00:00:00\",\"2019-01-26T00:00:00\",\"2019-01-25T00:00:00\",\"2019-01-22T00:00:00\",\"2019-01-19T00:00:00\",\"2019-01-18T00:00:00\",\"2019-01-17T00:00:00\",\"2019-01-16T00:00:00\",\"2019-01-15T00:00:00\",\"2019-01-14T00:00:00\",\"2019-01-13T00:00:00\",\"2019-01-11T00:00:00\",\"2019-01-10T00:00:00\",\"2019-01-09T00:00:00\",\"2019-01-06T00:00:00\",\"2019-01-01T00:00:00\",\"2018-12-29T00:00:00\",\"2018-12-23T00:00:00\",\"2018-12-20T00:00:00\",\"2018-12-19T00:00:00\",\"2018-12-18T00:00:00\",\"2018-12-17T00:00:00\",\"2018-12-16T00:00:00\",\"2018-12-13T00:00:00\",\"2018-12-07T00:00:00\",\"2018-12-06T00:00:00\",\"2018-12-01T00:00:00\",\"2018-11-30T00:00:00\",\"2018-11-28T00:00:00\",\"2018-11-27T00:00:00\",\"2018-11-22T00:00:00\",\"2018-11-20T00:00:00\",\"2018-11-17T00:00:00\",\"2018-11-16T00:00:00\",\"2018-11-14T00:00:00\",\"2018-11-11T00:00:00\",\"2018-11-02T00:00:00\",\"2018-11-01T00:00:00\",\"2018-10-31T00:00:00\",\"2018-10-30T00:00:00\",\"2018-10-28T00:00:00\",\"2018-10-26T00:00:00\",\"2018-10-25T00:00:00\",\"2018-10-24T00:00:00\",\"2018-10-23T00:00:00\",\"2018-10-22T00:00:00\",\"2018-10-19T00:00:00\",\"2018-10-18T00:00:00\",\"2018-10-15T00:00:00\",\"2018-10-11T00:00:00\",\"2018-10-04T00:00:00\",\"2018-10-02T00:00:00\",\"2018-09-30T00:00:00\",\"2018-09-21T00:00:00\",\"2018-09-20T00:00:00\",\"2018-09-16T00:00:00\",\"2018-09-14T00:00:00\",\"2018-09-13T00:00:00\",\"2018-09-11T00:00:00\",\"2018-09-07T00:00:00\",\"2018-09-06T00:00:00\",\"2018-09-03T00:00:00\",\"2018-08-27T00:00:00\",\"2018-08-22T00:00:00\",\"2018-08-20T00:00:00\",\"2018-08-17T00:00:00\",\"2018-08-14T00:00:00\",\"2018-08-13T00:00:00\",\"2018-08-11T00:00:00\",\"2018-08-08T00:00:00\",\"2018-08-07T00:00:00\",\"2018-08-03T00:00:00\",\"2018-08-02T00:00:00\",\"2018-07-29T00:00:00\",\"2018-07-28T00:00:00\",\"2018-07-27T00:00:00\",\"2018-07-25T00:00:00\",\"2018-07-20T00:00:00\",\"2018-07-19T00:00:00\",\"2018-07-10T00:00:00\",\"2018-07-08T00:00:00\",\"2018-07-07T00:00:00\",\"2018-07-06T00:00:00\",\"2018-07-05T00:00:00\",\"2018-07-03T00:00:00\",\"2018-06-30T00:00:00\",\"2018-06-29T00:00:00\",\"2018-06-27T00:00:00\",\"2018-06-25T00:00:00\",\"2018-06-22T00:00:00\",\"2018-06-21T00:00:00\",\"2018-06-20T00:00:00\",\"2018-06-19T00:00:00\",\"2018-06-12T00:00:00\",\"2018-06-09T00:00:00\",\"2018-06-08T00:00:00\",\"2018-06-07T00:00:00\",\"2018-06-06T00:00:00\",\"2018-06-05T00:00:00\",\"2018-05-31T00:00:00\",\"2018-05-30T00:00:00\",\"2018-05-26T00:00:00\",\"2018-05-23T00:00:00\",\"2018-05-22T00:00:00\",\"2018-05-21T00:00:00\",\"2018-05-20T00:00:00\",\"2018-05-16T00:00:00\",\"2018-05-09T00:00:00\",\"2018-05-04T00:00:00\",\"2018-05-02T00:00:00\",\"2018-04-26T00:00:00\",\"2018-04-13T00:00:00\",\"2018-04-11T00:00:00\",\"2018-04-09T00:00:00\",\"2018-04-06T00:00:00\",\"2018-04-02T00:00:00\",\"2018-04-01T00:00:00\",\"2018-03-29T00:00:00\",\"2018-03-24T00:00:00\",\"2018-03-22T00:00:00\",\"2018-03-19T00:00:00\",\"2018-03-16T00:00:00\",\"2018-03-14T00:00:00\",\"2018-03-08T00:00:00\",\"2018-03-07T00:00:00\",\"2018-03-02T00:00:00\",\"2018-03-01T00:00:00\",\"2018-02-18T00:00:00\",\"2018-01-29T00:00:00\",\"2018-01-27T00:00:00\",\"2018-01-21T00:00:00\",\"2018-01-19T00:00:00\",\"2018-01-11T00:00:00\",\"2018-01-10T00:00:00\",\"2017-12-29T00:00:00\",\"2017-12-22T00:00:00\",\"2017-12-21T00:00:00\",\"2017-12-19T00:00:00\",\"2017-12-18T00:00:00\",\"2017-12-17T00:00:00\",\"2017-12-12T00:00:00\",\"2017-12-10T00:00:00\",\"2017-12-09T00:00:00\",\"2017-12-08T00:00:00\",\"2017-12-06T00:00:00\",\"2017-12-02T00:00:00\",\"2017-11-30T00:00:00\",\"2017-11-22T00:00:00\",\"2017-11-21T00:00:00\",\"2017-11-19T00:00:00\",\"2017-11-15T00:00:00\",\"2017-11-14T00:00:00\",\"2017-11-13T00:00:00\",\"2017-11-11T00:00:00\",\"2017-11-10T00:00:00\",\"2017-11-09T00:00:00\",\"2017-11-07T00:00:00\",\"2017-11-02T00:00:00\",\"2017-10-30T00:00:00\",\"2017-10-29T00:00:00\",\"2017-10-25T00:00:00\",\"2017-10-24T00:00:00\",\"2017-10-20T00:00:00\",\"2017-10-19T00:00:00\",\"2017-10-15T00:00:00\",\"2017-10-11T00:00:00\",\"2017-10-07T00:00:00\",\"2017-10-03T00:00:00\",\"2017-10-02T00:00:00\",\"2017-09-29T00:00:00\",\"2017-09-28T00:00:00\",\"2017-09-25T00:00:00\",\"2017-09-24T00:00:00\",\"2017-09-23T00:00:00\",\"2017-09-22T00:00:00\",\"2017-09-20T00:00:00\",\"2017-09-18T00:00:00\",\"2017-09-15T00:00:00\",\"2017-09-14T00:00:00\",\"2017-09-09T00:00:00\",\"2017-09-03T00:00:00\",\"2017-09-01T00:00:00\",\"2017-08-31T00:00:00\",\"2017-08-26T00:00:00\",\"2017-08-25T00:00:00\",\"2017-08-24T00:00:00\",\"2017-08-23T00:00:00\",\"2017-08-22T00:00:00\",\"2017-08-18T00:00:00\",\"2017-08-16T00:00:00\",\"2017-08-15T00:00:00\",\"2017-08-13T00:00:00\",\"2017-08-03T00:00:00\",\"2017-07-30T00:00:00\",\"2017-07-27T00:00:00\",\"2017-07-24T00:00:00\",\"2017-07-23T00:00:00\",\"2017-07-21T00:00:00\",\"2017-07-18T00:00:00\",\"2017-07-15T00:00:00\",\"2017-07-14T00:00:00\",\"2017-07-13T00:00:00\",\"2017-07-12T00:00:00\",\"2017-07-05T00:00:00\",\"2017-07-03T00:00:00\",\"2017-07-01T00:00:00\",\"2017-06-19T00:00:00\",\"2017-06-13T00:00:00\",\"2017-06-01T00:00:00\",\"2017-05-29T00:00:00\",\"2017-05-24T00:00:00\",\"2017-05-17T00:00:00\",\"2017-05-15T00:00:00\",\"2017-05-13T00:00:00\",\"2017-05-10T00:00:00\",\"2017-05-02T00:00:00\",\"2017-05-01T00:00:00\",\"2017-04-30T00:00:00\",\"2017-04-28T00:00:00\",\"2017-04-26T00:00:00\",\"2017-04-22T00:00:00\",\"2017-04-16T00:00:00\",\"2017-04-13T00:00:00\",\"2017-03-31T00:00:00\",\"2017-03-30T00:00:00\",\"2017-03-29T00:00:00\",\"2017-03-24T00:00:00\",\"2017-03-22T00:00:00\",\"2017-03-17T00:00:00\",\"2017-03-16T00:00:00\",\"2017-03-11T00:00:00\",\"2017-03-09T00:00:00\",\"2017-03-08T00:00:00\",\"2017-03-07T00:00:00\",\"2017-02-26T00:00:00\",\"2017-02-14T00:00:00\",\"2017-02-03T00:00:00\",\"2017-01-09T00:00:00\",\"2017-01-08T00:00:00\",\"2017-01-06T00:00:00\",\"2016-12-29T00:00:00\",\"2016-12-27T00:00:00\",\"2016-12-23T00:00:00\",\"2016-12-20T00:00:00\",\"2016-12-14T00:00:00\",\"2016-12-05T00:00:00\",\"2016-11-25T00:00:00\",\"2016-11-22T00:00:00\",\"2016-11-19T00:00:00\",\"2016-11-16T00:00:00\",\"2016-11-05T00:00:00\",\"2016-10-17T00:00:00\",\"2016-10-12T00:00:00\",\"2016-09-27T00:00:00\",\"2016-09-26T00:00:00\",\"2016-08-02T00:00:00\",\"2016-07-29T00:00:00\",\"2016-06-25T00:00:00\",\"2016-06-23T00:00:00\",\"2016-06-17T00:00:00\",\"2016-06-09T00:00:00\",\"2016-06-03T00:00:00\",\"2016-05-27T00:00:00\",\"2016-05-16T00:00:00\",\"2016-05-11T00:00:00\",\"2016-05-10T00:00:00\",\"2016-04-25T00:00:00\",\"2016-04-24T00:00:00\",\"2016-03-21T00:00:00\",\"2016-03-03T00:00:00\",\"2016-03-02T00:00:00\",\"2016-02-15T00:00:00\",\"2016-02-06T00:00:00\",\"2016-01-26T00:00:00\",\"2015-12-13T00:00:00\",\"2015-12-08T00:00:00\",\"2015-11-04T00:00:00\",\"2015-11-02T00:00:00\",\"2015-10-06T00:00:00\",\"2015-07-25T00:00:00\",\"2015-07-23T00:00:00\",\"2015-07-08T00:00:00\",\"2015-06-19T00:00:00\",\"2015-05-21T00:00:00\",\"2015-05-06T00:00:00\",\"2015-04-30T00:00:00\",\"2015-04-29T00:00:00\",\"2015-04-26T00:00:00\",\"2015-04-23T00:00:00\",\"2015-01-27T00:00:00\",\"2015-01-18T00:00:00\",\"2015-01-17T00:00:00\"],\"y\":[8,4,1,2,1,3,1,2,3,5,2,1,2,1,1,1,2,1,1,4,2,3,2,1,2,1,1,1,1,3,4,3,2,3,1,1,2,1,2,1,1,2,3,1,1,1,1,1,1,1,1,2,2,1,1,3,1,1,2,1,1,2,2,4,3,1,3,1,1,1,1,2,1,1,1,1,1,3,1,1,5,1,4,1,1,1,1,2,1,1,1,1,2,2,3,2,1,2,1,2,1,2,4,1,4,5,2,3,2,1,1,3,2,1,1,2,2,1,1,2,3,2,2,1,1,1,1,2,1,2,1,1,1,1,1,2,4,4,1,1,1,2,1,1,1,1,2,1,4,1,2,2,1,1,1,2,1,2,4,1,1,1,1,1,1,5,2,1,1,2,1,2,2,1,2,7,1,3,4,2,1,1,2,1,2,1,1,1,1,3,1,1,1,2,2,2,3,1,2,1,3,4,2,1,1,1,1,1,1,1,1,1,1,2,1,1,2,1,1,2,1,1,1,3,1,1,2,1,1,2,1,1,1,2,1,2,1,1,1,2,1,1,2,1,2,2,2,3,1,1,1,1,4,1,1,1,1,2,1,1,1,2,1,2,1,1,2,2,1,1,1,2,1,2,1,1,1,1,1,1,1,1,1,1,1,1,1,2,1,3,2,1,2,1,2,2,2,1,1,1,1,2,1,1,1,1,1,1,2,1,1,2,1,2,1,1,1,2,1,1,1,1,1,2,1,1,1,1,1,1,2,1,2,1,2,2,2,1,2,1,1,1,1,1,3,1,1,1,1,1,1,1,1,3,1,1,1,1,2,1,3,1,1,1,1,1,2,1,1,1,1,1,1,2,1,1,1,1,1,1,2,1,1,1,1,1,1,2,1,1,1,1,2,1,1,1,1,1,1,1,1,1,1,1,1,1,1,1,1,1,1,1,1,1,1,1,1,1,1,1,1,1,1,1,1,1,1,1,1,1,1,2,1,1,1,1,1,1,1,1,1,1,1,1,2,1,1,1,1,1,1,1,1,1,1,1,1,1,1,1,5,1]}];\n",
       "            var layout = {\"title\":\"Daily created issues over the past year\"};\n",
       "            Plotly.newPlot('8d2917ba-b2bc-4b4b-90e4-21f98b93cc69', data, layout);\n",
       "        });\r\n",
       "};\r\n",
       "if ((typeof(requirejs) !==  typeof(Function)) || (typeof(requirejs.config) !== typeof(Function))) { \r\n",
       "    var script = document.createElement(\"script\"); \r\n",
       "    script.setAttribute(\"src\", \"https://cdnjs.cloudflare.com/ajax/libs/require.js/2.3.6/require.min.js\"); \r\n",
       "    script.onload = function(){\r\n",
       "        renderPlotly();\r\n",
       "    };\r\n",
       "    document.getElementsByTagName(\"head\")[0].appendChild(script); \r\n",
       "}\r\n",
       "else {\r\n",
       "    renderPlotly();\r\n",
       "}\n",
       "</script>"
      ]
     },
     "execution_count": 10,
     "metadata": {},
     "output_type": "execute_result"
    }
   ],
   "source": [
    "let createdThisMonthByDay =\n",
    "    createdThisMonth\n",
    "    |> Seq.groupBy (fun i -> DateTime(i.CreatedAt.Year,i.CreatedAt.Month, i.CreatedAt.Day))\n",
    "    |> Seq.map (fun (date, issues) -> (date, issues.Count()))\n",
    "\n",
    "createdThisMonthByDay\n",
    "|> Chart.Line\n",
    "|> Chart.WithTitle(\"Daily created issues over the past year\")"
   ]
  },
  {
   "cell_type": "markdown",
   "metadata": {},
   "source": [
    "Show open issues, in descending order. Limit to 10 to save screen space."
   ]
  },
  {
   "cell_type": "code",
   "execution_count": 114,
   "metadata": {},
   "outputs": [
    {
     "data": {
      "text/html": [
       "<table><thead><tr><th><i>index</i></th><th>CreatedAt</th><th>Number</th><th>State</th><th>Title</th></tr></thead><tbody><tr><td>0</td><td>2019-11-13 13:45:52Z</td><td>7854</td><td>open</td><td>CompiledName allows invalid input, leading to PeVerify to fail</td></tr><tr><td>1</td><td>2019-11-13 13:24:28Z</td><td>7853</td><td>open</td><td>[master] Update dependencies from dotnet/arcade</td></tr><tr><td>2</td><td>2019-11-13 00:05:57Z</td><td>7851</td><td>open</td><td>Merge master to release/fsharp5</td></tr><tr><td>3</td><td>2019-11-13 00:05:38Z</td><td>7850</td><td>open</td><td>Merge master to feature/and-bang</td></tr><tr><td>4</td><td>2019-11-13 00:05:22Z</td><td>7849</td><td>open</td><td>Merge master to feature/ext</td></tr><tr><td>5</td><td>2019-11-13 00:05:11Z</td><td>7848</td><td>open</td><td>Merge master to release/dev16.5</td></tr><tr><td>6</td><td>2019-11-13 00:05:04Z</td><td>7847</td><td>open</td><td>Merge release/dev16.5 to release/dev16.6</td></tr><tr><td>7</td><td>2019-11-12 23:38:00Z</td><td>7846</td><td>open</td><td>Performance Profiler crashes on F# projects</td></tr><tr><td>8</td><td>2019-11-12 19:43:36Z</td><td>7845</td><td>open</td><td>New .NET Core 3.0 projects default to FSharp.Core 4.5.2</td></tr><tr><td>9</td><td>2019-11-12 17:50:26Z</td><td>7844</td><td>open</td><td>Whatever happend to (partially) parsing XML comments in the editor tooltips?</td></tr></tbody></table>"
      ]
     },
     "execution_count": 114,
     "metadata": {},
     "output_type": "execute_result"
    }
   ],
   "source": [
    "openSoFar\n",
    "|> Seq.map (fun i -> {| CreatedAt = i.CreatedAt; Title = i.Title; State = i.State.StringValue; Number = i.Number |})\n",
    "|> Seq.sortByDescending (fun d -> d.CreatedAt)\n",
    "|> Seq.take 10 // Limiting the output to 10 here!"
   ]
  },
  {
   "cell_type": "markdown",
   "metadata": {},
   "source": [
    "Let's see what issues still opened, grouped by month, looks like"
   ]
  },
  {
   "cell_type": "code",
   "execution_count": 128,
   "metadata": {},
   "outputs": [
    {
     "data": {
      "text/html": [
       "<div id=\"10562fa8-8c61-4e28-890d-963fd6758840\" style=\"width: 900px; height: 500px;\"></div><script type=\"text/javascript\">\n",
       "\r\n",
       "var renderPlotly = function() {\r\n",
       "    var xplotRequire = requirejs.config({context:'xplot-3.0.1',paths:{plotly:'https://cdn.plot.ly/plotly-1.49.2.min'}});\r\n",
       "    xplotRequire(['plotly'], function(Plotly) {\n",
       "\n",
       "            var data = [{\"type\":\"scatter\",\"x\":[\"2015-01-01T00:00:00\",\"2015-04-01T00:00:00\",\"2015-05-01T00:00:00\",\"2015-06-01T00:00:00\",\"2015-07-01T00:00:00\",\"2015-10-01T00:00:00\",\"2015-11-01T00:00:00\",\"2015-12-01T00:00:00\",\"2016-01-01T00:00:00\",\"2016-02-01T00:00:00\",\"2016-03-01T00:00:00\",\"2016-04-01T00:00:00\",\"2016-05-01T00:00:00\",\"2016-06-01T00:00:00\",\"2016-07-01T00:00:00\",\"2016-08-01T00:00:00\",\"2016-09-01T00:00:00\",\"2016-10-01T00:00:00\",\"2016-11-01T00:00:00\",\"2016-12-01T00:00:00\",\"2017-01-01T00:00:00\",\"2017-02-01T00:00:00\",\"2017-03-01T00:00:00\",\"2017-04-01T00:00:00\",\"2017-05-01T00:00:00\",\"2017-06-01T00:00:00\",\"2017-07-01T00:00:00\",\"2017-08-01T00:00:00\",\"2017-09-01T00:00:00\",\"2017-10-01T00:00:00\",\"2017-11-01T00:00:00\",\"2017-12-01T00:00:00\",\"2018-01-01T00:00:00\",\"2018-02-01T00:00:00\",\"2018-03-01T00:00:00\",\"2018-04-01T00:00:00\",\"2018-05-01T00:00:00\",\"2018-06-01T00:00:00\",\"2018-07-01T00:00:00\",\"2018-08-01T00:00:00\",\"2018-09-01T00:00:00\",\"2018-10-01T00:00:00\",\"2018-11-01T00:00:00\",\"2018-12-01T00:00:00\",\"2019-01-01T00:00:00\",\"2019-02-01T00:00:00\",\"2019-03-01T00:00:00\",\"2019-04-01T00:00:00\",\"2019-05-01T00:00:00\",\"2019-06-01T00:00:00\",\"2019-07-01T00:00:00\",\"2019-08-01T00:00:00\",\"2019-09-01T00:00:00\",\"2019-10-01T00:00:00\",\"2019-11-01T00:00:00\"],\"y\":[7,4,2,1,3,1,2,3,1,2,3,2,4,6,1,1,2,2,5,6,3,3,11,8,9,3,15,16,15,17,14,15,7,1,18,7,13,19,20,15,14,17,18,18,36,24,17,32,46,30,19,33,26,45,24]}];\n",
       "            var layout = {\"title\":\"Issues still opened, grouped by month\"};\n",
       "            Plotly.newPlot('10562fa8-8c61-4e28-890d-963fd6758840', data, layout);\n",
       "        });\r\n",
       "};\r\n",
       "if ((typeof(requirejs) !==  typeof(Function)) || (typeof(requirejs.config) !== typeof(Function))) { \r\n",
       "    var script = document.createElement(\"script\"); \r\n",
       "    script.setAttribute(\"src\", \"https://cdnjs.cloudflare.com/ajax/libs/require.js/2.3.6/require.min.js\"); \r\n",
       "    script.onload = function(){\r\n",
       "        renderPlotly();\r\n",
       "    };\r\n",
       "    document.getElementsByTagName(\"head\")[0].appendChild(script); \r\n",
       "}\r\n",
       "else {\r\n",
       "    renderPlotly();\r\n",
       "}\n",
       "</script>"
      ]
     },
     "execution_count": 128,
     "metadata": {},
     "output_type": "execute_result"
    }
   ],
   "source": [
    "openByMonthOfCreation\n",
    "|> Seq.map (fun g -> (DateTime(g.Date.Year, g.Date.Month, 1), g.Count))\n",
    "|> Chart.Line\n",
    "|> Chart.WithTitle(\"Issues still opened, grouped by month\")"
   ]
  },
  {
   "cell_type": "markdown",
   "metadata": {},
   "source": [
    "Now let's look at idle vs active issues."
   ]
  },
  {
   "cell_type": "code",
   "execution_count": 138,
   "metadata": {},
   "outputs": [
    {
     "data": {
      "text/html": [
       "<div id=\"f43ccd12-fa9b-417b-9a9d-d74b7acf1cd8\" style=\"width: 900px; height: 500px;\"></div><script type=\"text/javascript\">\n",
       "\r\n",
       "var renderPlotly = function() {\r\n",
       "    var xplotRequire = requirejs.config({context:'xplot-3.0.1',paths:{plotly:'https://cdn.plot.ly/plotly-1.49.2.min'}});\r\n",
       "    xplotRequire(['plotly'], function(Plotly) {\n",
       "\n",
       "            var data = [{\"type\":\"scattergl\",\"x\":[\"2015-01-01T00:00:00\",\"2015-04-01T00:00:00\",\"2015-07-01T00:00:00\",\"2015-11-01T00:00:00\",\"2016-01-01T00:00:00\",\"2016-03-01T00:00:00\",\"2016-04-01T00:00:00\",\"2016-06-01T00:00:00\",\"2016-10-01T00:00:00\",\"2016-12-01T00:00:00\",\"2017-02-01T00:00:00\",\"2017-03-01T00:00:00\",\"2017-04-01T00:00:00\",\"2017-05-01T00:00:00\",\"2017-07-01T00:00:00\",\"2017-08-01T00:00:00\",\"2017-10-01T00:00:00\",\"2017-11-01T00:00:00\",\"2017-12-01T00:00:00\",\"2018-01-01T00:00:00\",\"2018-05-01T00:00:00\",\"2018-06-01T00:00:00\",\"2018-07-01T00:00:00\",\"2018-08-01T00:00:00\",\"2018-09-01T00:00:00\",\"2018-10-01T00:00:00\",\"2018-11-01T00:00:00\",\"2018-12-01T00:00:00\",\"2019-01-01T00:00:00\",\"2019-02-01T00:00:00\",\"2019-03-01T00:00:00\",\"2019-04-01T00:00:00\",\"2019-05-01T00:00:00\",\"2019-06-01T00:00:00\",\"2019-07-01T00:00:00\",\"2019-08-01T00:00:00\",\"2019-09-01T00:00:00\",\"2019-10-01T00:00:00\",\"2019-11-01T00:00:00\"],\"y\":[2,1,1,1,1,1,1,1,1,1,2,2,2,3,2,3,2,1,4,2,7,6,2,2,2,5,4,6,12,7,2,9,15,8,5,9,12,14,11],\"name\":\"Idle\"},{\"type\":\"scattergl\",\"x\":[\"2015-01-01T00:00:00\",\"2015-04-01T00:00:00\",\"2015-05-01T00:00:00\",\"2015-06-01T00:00:00\",\"2015-07-01T00:00:00\",\"2015-10-01T00:00:00\",\"2015-11-01T00:00:00\",\"2015-12-01T00:00:00\",\"2016-02-01T00:00:00\",\"2016-03-01T00:00:00\",\"2016-04-01T00:00:00\",\"2016-05-01T00:00:00\",\"2016-06-01T00:00:00\",\"2016-07-01T00:00:00\",\"2016-08-01T00:00:00\",\"2016-09-01T00:00:00\",\"2016-10-01T00:00:00\",\"2016-11-01T00:00:00\",\"2016-12-01T00:00:00\",\"2017-01-01T00:00:00\",\"2017-02-01T00:00:00\",\"2017-03-01T00:00:00\",\"2017-04-01T00:00:00\",\"2017-05-01T00:00:00\",\"2017-06-01T00:00:00\",\"2017-07-01T00:00:00\",\"2017-08-01T00:00:00\",\"2017-09-01T00:00:00\",\"2017-10-01T00:00:00\",\"2017-11-01T00:00:00\",\"2017-12-01T00:00:00\",\"2018-01-01T00:00:00\",\"2018-02-01T00:00:00\",\"2018-03-01T00:00:00\",\"2018-04-01T00:00:00\",\"2018-05-01T00:00:00\",\"2018-06-01T00:00:00\",\"2018-07-01T00:00:00\",\"2018-08-01T00:00:00\",\"2018-09-01T00:00:00\",\"2018-10-01T00:00:00\",\"2018-11-01T00:00:00\",\"2018-12-01T00:00:00\",\"2019-01-01T00:00:00\",\"2019-02-01T00:00:00\",\"2019-03-01T00:00:00\",\"2019-04-01T00:00:00\",\"2019-05-01T00:00:00\",\"2019-06-01T00:00:00\",\"2019-07-01T00:00:00\",\"2019-08-01T00:00:00\",\"2019-09-01T00:00:00\",\"2019-10-01T00:00:00\",\"2019-11-01T00:00:00\"],\"y\":[5,3,2,1,2,1,1,3,2,2,1,4,5,1,1,2,1,5,5,3,1,9,6,6,3,13,13,15,15,13,11,5,1,18,7,6,13,18,13,12,12,14,12,24,17,15,23,31,22,14,24,14,31,13],\"name\":\"Active\"}];\n",
       "            var layout = {\"title\":\"Idle and active open issue report\"};\n",
       "            Plotly.newPlot('f43ccd12-fa9b-417b-9a9d-d74b7acf1cd8', data, layout);\n",
       "        });\r\n",
       "};\r\n",
       "if ((typeof(requirejs) !==  typeof(Function)) || (typeof(requirejs.config) !== typeof(Function))) { \r\n",
       "    var script = document.createElement(\"script\"); \r\n",
       "    script.setAttribute(\"src\", \"https://cdnjs.cloudflare.com/ajax/libs/require.js/2.3.6/require.min.js\"); \r\n",
       "    script.onload = function(){\r\n",
       "        renderPlotly();\r\n",
       "    };\r\n",
       "    document.getElementsByTagName(\"head\")[0].appendChild(script); \r\n",
       "}\r\n",
       "else {\r\n",
       "    renderPlotly();\r\n",
       "}\n",
       "</script>"
      ]
     },
     "execution_count": 138,
     "metadata": {},
     "output_type": "execute_result"
    }
   ],
   "source": [
    "let idleByMonth =\n",
    "    openSoFar\n",
    "    |> Seq.filter (fun i -> i.Comments = 0)\n",
    "    |> Seq.groupBy (fun i -> DateTime(i.CreatedAt.Year, i.CreatedAt.Month, 1))\n",
    "    |> Seq.map(fun (key, issues) -> {| Date = key; Count = issues.Count() |})\n",
    "\n",
    "let activeByMonth =\n",
    "    openSoFar\n",
    "    |> Seq.filter (fun i -> i.Comments > 0)\n",
    "    |> Seq.groupBy (fun i -> DateTime(i.CreatedAt.Year, i.CreatedAt.Month, 1))\n",
    "    |> Seq.map (fun (key, issues) -> {| Date = key; Count = issues.Count() |})\n",
    "\n",
    "let idleSeries =\n",
    "    Graph.Scattergl(\n",
    "        name = \"Idle\",\n",
    "        y = (idleByMonth |> Seq.map (fun g -> g.Count)),\n",
    "        x = (idleByMonth |> Seq.map (fun g -> g.Date)))\n",
    "\n",
    "let activeSeries =\n",
    "    Graph.Scattergl(\n",
    "        name = \"Active\",\n",
    "        y = (activeByMonth |> Seq.map (fun g -> g.Count)),\n",
    "        x = (activeByMonth |> Seq.map (fun g -> g.Date)))\n",
    "\n",
    "[idleSeries; activeSeries]\n",
    "|> Chart.Plot\n",
    "|> Chart.WithTitle(\"Idle and active open issue report\")"
   ]
  },
  {
   "cell_type": "markdown",
   "metadata": {},
   "source": [
    "Now let's generate a report for the whole year."
   ]
  },
  {
   "cell_type": "code",
   "execution_count": 139,
   "metadata": {},
   "outputs": [
    {
     "data": {
      "text/html": [
       "<div id=\"c6e519cd-c2d2-452c-af3a-47d6140837ac\" style=\"width: 900px; height: 500px;\"></div><script type=\"text/javascript\">\n",
       "\r\n",
       "var renderPlotly = function() {\r\n",
       "    var xplotRequire = requirejs.config({context:'xplot-3.0.1',paths:{plotly:'https://cdn.plot.ly/plotly-1.49.2.min'}});\r\n",
       "    xplotRequire(['plotly'], function(Plotly) {\n",
       "\n",
       "            var data = [{\"type\":\"scattergl\",\"x\":[\"2015-01-01T00:00:00\",\"2015-04-01T00:00:00\",\"2015-05-01T00:00:00\",\"2015-06-01T00:00:00\",\"2015-07-01T00:00:00\",\"2015-10-01T00:00:00\",\"2015-11-01T00:00:00\",\"2015-12-01T00:00:00\",\"2016-01-01T00:00:00\",\"2016-02-01T00:00:00\",\"2016-03-01T00:00:00\",\"2016-04-01T00:00:00\",\"2016-05-01T00:00:00\",\"2016-06-01T00:00:00\",\"2016-07-01T00:00:00\",\"2016-08-01T00:00:00\",\"2016-09-01T00:00:00\",\"2016-10-01T00:00:00\",\"2016-11-01T00:00:00\",\"2016-12-01T00:00:00\",\"2017-01-01T00:00:00\",\"2017-02-01T00:00:00\",\"2017-03-01T00:00:00\",\"2017-04-01T00:00:00\",\"2017-05-01T00:00:00\",\"2017-06-01T00:00:00\",\"2017-07-01T00:00:00\",\"2017-08-01T00:00:00\",\"2017-09-01T00:00:00\",\"2017-10-01T00:00:00\",\"2017-11-01T00:00:00\",\"2017-12-01T00:00:00\",\"2018-01-01T00:00:00\",\"2018-02-01T00:00:00\",\"2018-03-01T00:00:00\",\"2018-04-01T00:00:00\",\"2018-05-01T00:00:00\",\"2018-06-01T00:00:00\",\"2018-07-01T00:00:00\",\"2018-08-01T00:00:00\",\"2018-09-01T00:00:00\",\"2018-10-01T00:00:00\",\"2018-11-01T00:00:00\",\"2018-12-01T00:00:00\",\"2019-01-01T00:00:00\",\"2019-02-01T00:00:00\",\"2019-03-01T00:00:00\",\"2019-04-01T00:00:00\",\"2019-05-01T00:00:00\",\"2019-06-01T00:00:00\",\"2019-07-01T00:00:00\",\"2019-08-01T00:00:00\",\"2019-09-01T00:00:00\",\"2019-10-01T00:00:00\",\"2019-11-01T00:00:00\"],\"y\":[7,4,2,1,3,1,2,3,1,2,3,2,4,6,1,1,2,2,5,6,3,3,11,8,9,3,15,16,15,17,14,15,7,1,18,7,13,19,20,15,14,17,18,18,36,24,17,32,46,30,19,33,26,45,24],\"name\":\"Created\"},{\"type\":\"scattergl\",\"x\":[\"2015-01-01T00:00:00\",\"2015-02-01T00:00:00\",\"2015-03-01T00:00:00\",\"2015-04-01T00:00:00\",\"2015-05-01T00:00:00\",\"2015-06-01T00:00:00\",\"2015-07-01T00:00:00\",\"2015-08-01T00:00:00\",\"2015-09-01T00:00:00\",\"2015-10-01T00:00:00\",\"2016-01-01T00:00:00\",\"2016-02-01T00:00:00\",\"2016-03-01T00:00:00\",\"2016-07-01T00:00:00\",\"2016-08-01T00:00:00\",\"2016-10-01T00:00:00\",\"2016-11-01T00:00:00\",\"2016-12-01T00:00:00\",\"2017-01-01T00:00:00\",\"2017-02-01T00:00:00\",\"2017-03-01T00:00:00\",\"2017-04-01T00:00:00\",\"2017-05-01T00:00:00\",\"2017-06-01T00:00:00\",\"2017-07-01T00:00:00\",\"2017-08-01T00:00:00\",\"2017-09-01T00:00:00\",\"2017-10-01T00:00:00\",\"2017-11-01T00:00:00\",\"2017-12-01T00:00:00\",\"2018-01-01T00:00:00\",\"2018-02-01T00:00:00\",\"2018-03-01T00:00:00\",\"2018-04-01T00:00:00\",\"2018-05-01T00:00:00\",\"2018-06-01T00:00:00\",\"2018-07-01T00:00:00\",\"2018-08-01T00:00:00\",\"2018-09-01T00:00:00\",\"2018-10-01T00:00:00\",\"2018-11-01T00:00:00\",\"2018-12-01T00:00:00\",\"2019-01-01T00:00:00\",\"2019-02-01T00:00:00\",\"2019-03-01T00:00:00\",\"2019-04-01T00:00:00\",\"2019-05-01T00:00:00\",\"2019-06-01T00:00:00\",\"2019-07-01T00:00:00\",\"2019-08-01T00:00:00\",\"2019-09-01T00:00:00\",\"2019-10-01T00:00:00\",\"2019-11-01T00:00:00\"],\"y\":[2,4,3,1,4,6,2,1,1,1,3,4,2,8,2,6,14,11,3,3,4,1,7,4,2,3,4,4,2,5,3,3,3,1,4,2,6,9,11,12,18,8,103,106,89,238,232,156,223,141,176,107,36],\"name\":\"Closed\"},{\"type\":\"scattergl\",\"x\":[\"2015-01-01T00:00:00\",\"2015-02-01T00:00:00\",\"2015-03-01T00:00:00\",\"2015-04-01T00:00:00\",\"2015-05-01T00:00:00\",\"2015-06-01T00:00:00\",\"2015-07-01T00:00:00\",\"2015-08-01T00:00:00\",\"2015-12-01T00:00:00\",\"2016-01-01T00:00:00\",\"2016-02-01T00:00:00\",\"2016-03-01T00:00:00\",\"2016-04-01T00:00:00\",\"2016-05-01T00:00:00\",\"2016-06-01T00:00:00\",\"2016-07-01T00:00:00\",\"2016-08-01T00:00:00\",\"2016-10-01T00:00:00\",\"2016-11-01T00:00:00\",\"2016-12-01T00:00:00\",\"2017-01-01T00:00:00\",\"2017-02-01T00:00:00\",\"2017-03-01T00:00:00\",\"2017-04-01T00:00:00\",\"2017-05-01T00:00:00\",\"2017-06-01T00:00:00\",\"2017-07-01T00:00:00\",\"2017-08-01T00:00:00\",\"2017-09-01T00:00:00\",\"2017-10-01T00:00:00\",\"2017-11-01T00:00:00\",\"2017-12-01T00:00:00\",\"2018-01-01T00:00:00\",\"2018-02-01T00:00:00\",\"2018-03-01T00:00:00\",\"2018-04-01T00:00:00\",\"2018-05-01T00:00:00\",\"2018-06-01T00:00:00\",\"2018-07-01T00:00:00\",\"2018-08-01T00:00:00\",\"2018-09-01T00:00:00\",\"2018-10-01T00:00:00\",\"2018-11-01T00:00:00\",\"2018-12-01T00:00:00\",\"2019-01-01T00:00:00\",\"2019-02-01T00:00:00\",\"2019-03-01T00:00:00\",\"2019-04-01T00:00:00\",\"2019-05-01T00:00:00\",\"2019-06-01T00:00:00\",\"2019-07-01T00:00:00\",\"2019-08-01T00:00:00\",\"2019-09-01T00:00:00\",\"2019-10-01T00:00:00\",\"2019-11-01T00:00:00\"],\"y\":[13,7,3,1,7,5,1,2,4,6,5,2,1,1,1,2,2,11,18,4,4,4,11,3,7,4,6,3,8,12,8,13,6,2,11,10,8,8,12,7,16,20,27,32,80,100,93,221,209,137,208,132,172,81,33],\"name\":\"Open\"}];\n",
       "            var layout = {\"title\":\"Issue report for the current year\"};\n",
       "            Plotly.newPlot('c6e519cd-c2d2-452c-af3a-47d6140837ac', data, layout);\n",
       "        });\r\n",
       "};\r\n",
       "if ((typeof(requirejs) !==  typeof(Function)) || (typeof(requirejs.config) !== typeof(Function))) { \r\n",
       "    var script = document.createElement(\"script\"); \r\n",
       "    script.setAttribute(\"src\", \"https://cdnjs.cloudflare.com/ajax/libs/require.js/2.3.6/require.min.js\"); \r\n",
       "    script.onload = function(){\r\n",
       "        renderPlotly();\r\n",
       "    };\r\n",
       "    document.getElementsByTagName(\"head\")[0].appendChild(script); \r\n",
       "}\r\n",
       "else {\r\n",
       "    renderPlotly();\r\n",
       "}\n",
       "</script>"
      ]
     },
     "execution_count": 139,
     "metadata": {},
     "output_type": "execute_result"
    }
   ],
   "source": [
    "let openDataPoints =\n",
    "    openByMonthOfCreation\n",
    "    |> Seq.map (fun g -> {| Date = DateTime(g.Date.Year, g.Date.Month, 1); Count = g.Count |})\n",
    "    |> Seq.sortBy (fun d -> d.Date)\n",
    "\n",
    "let closedDataPoints =\n",
    "    closedByMonthOfClosure\n",
    "    |> Seq.map (fun g -> {| Date = DateTime(g.Date.Year, g.Date.Month, 1); Count = g.Count |})\n",
    "    |> Seq.sortBy (fun d -> d.Date)\n",
    "\n",
    "let openCountByMonthDataPoints =\n",
    "    openCountByMonth\n",
    "    |> Seq.map (fun g -> {| Date = DateTime(g.Date.Year, g.Date.Month, 1); Count = g.Count |})\n",
    "    |> Seq.sortBy (fun d -> d.Date)\n",
    "\n",
    "let openSeries =\n",
    "    Graph.Scattergl(\n",
    "        name = \"Created\",\n",
    "        x = (openDataPoints |> Seq.map (fun g -> g.Date)),\n",
    "        y = (openDataPoints |> Seq.map (fun g -> g.Count)))\n",
    "\n",
    "let closeSeries =\n",
    "    Graph.Scattergl(\n",
    "        name = \"Closed\",\n",
    "        x = (closedDataPoints |> Seq.map (fun g -> g.Date)),\n",
    "        y = (closedDataPoints |> Seq.map (fun g -> g.Count)))\n",
    "\n",
    "let stillOpenSeries =\n",
    "    Graph.Scattergl(\n",
    "        name = \"Open\",\n",
    "        x = (openCountByMonthDataPoints |> Seq.map (fun g -> g.Date)),\n",
    "        y = (openCountByMonthDataPoints |> Seq.map (fun g -> g.Count)))\n",
    "\n",
    "[openSeries; closeSeries; stillOpenSeries]\n",
    "|> Chart.Plot\n",
    "|> Chart.WithTitle(\"Issue report for the current year\")"
   ]
  },
  {
   "cell_type": "markdown",
   "metadata": {},
   "source": [
    "### How many times has dotnet/fsharp been forked?"
   ]
  },
  {
   "cell_type": "code",
   "execution_count": 77,
   "metadata": {},
   "outputs": [],
   "source": [
    "let forks =\n",
    "    async {\n",
    "        return!\n",
    "            gitHubClient.Repository.Forks.GetAll(organization, repositoryName)\n",
    "            |> Async.AwaitTask\n",
    "    } |> Async.RunSynchronously"
   ]
  },
  {
   "cell_type": "code",
   "execution_count": 140,
   "metadata": {},
   "outputs": [
    {
     "data": {
      "text/html": [
       "<div id=\"1bf98df4-f1d3-48e0-a982-006fd92029ae\" style=\"width: 900px; height: 500px;\"></div><script type=\"text/javascript\">\n",
       "\r\n",
       "var renderPlotly = function() {\r\n",
       "    var xplotRequire = requirejs.config({context:'xplot-3.0.1',paths:{plotly:'https://cdn.plot.ly/plotly-1.49.2.min'}});\r\n",
       "    xplotRequire(['plotly'], function(Plotly) {\n",
       "\n",
       "            var data = [{\"type\":\"scattergl\",\"x\":[\"2015-01-13T00:00:00\",\"2015-01-14T00:00:00\",\"2015-01-15T00:00:00\",\"2015-01-16T00:00:00\",\"2015-01-18T00:00:00\",\"2015-01-19T00:00:00\",\"2015-01-20T00:00:00\",\"2015-01-21T00:00:00\",\"2015-01-23T00:00:00\",\"2015-01-24T00:00:00\",\"2015-01-25T00:00:00\",\"2015-01-28T00:00:00\",\"2015-01-29T00:00:00\",\"2015-02-02T00:00:00\",\"2015-02-04T00:00:00\",\"2015-02-08T00:00:00\",\"2015-02-12T00:00:00\",\"2015-02-13T00:00:00\",\"2015-02-19T00:00:00\",\"2015-02-21T00:00:00\",\"2015-02-26T00:00:00\",\"2015-03-01T00:00:00\",\"2015-03-10T00:00:00\",\"2015-03-14T00:00:00\",\"2015-03-15T00:00:00\",\"2015-03-16T00:00:00\",\"2015-03-19T00:00:00\",\"2015-03-25T00:00:00\",\"2015-03-28T00:00:00\",\"2015-03-30T00:00:00\",\"2015-04-12T00:00:00\",\"2015-04-13T00:00:00\",\"2015-04-14T00:00:00\",\"2015-04-18T00:00:00\",\"2015-04-23T00:00:00\",\"2015-04-24T00:00:00\",\"2015-04-26T00:00:00\",\"2015-04-28T00:00:00\",\"2015-05-01T00:00:00\",\"2015-05-04T00:00:00\",\"2015-05-06T00:00:00\",\"2015-05-11T00:00:00\",\"2015-05-18T00:00:00\",\"2015-05-22T00:00:00\",\"2015-06-01T00:00:00\",\"2015-06-11T00:00:00\",\"2015-06-21T00:00:00\",\"2015-06-22T00:00:00\",\"2015-07-01T00:00:00\",\"2015-07-05T00:00:00\",\"2015-07-25T00:00:00\",\"2015-08-04T00:00:00\",\"2015-08-09T00:00:00\",\"2015-08-12T00:00:00\",\"2015-08-13T00:00:00\",\"2015-08-30T00:00:00\",\"2015-09-03T00:00:00\",\"2015-09-04T00:00:00\",\"2015-09-05T00:00:00\",\"2015-09-18T00:00:00\",\"2015-09-19T00:00:00\",\"2015-09-23T00:00:00\",\"2015-09-28T00:00:00\",\"2015-09-29T00:00:00\",\"2015-10-06T00:00:00\",\"2015-10-09T00:00:00\",\"2015-10-10T00:00:00\",\"2015-10-15T00:00:00\",\"2015-10-16T00:00:00\",\"2015-10-17T00:00:00\",\"2015-10-23T00:00:00\",\"2015-10-28T00:00:00\",\"2015-10-30T00:00:00\",\"2015-11-02T00:00:00\",\"2015-11-05T00:00:00\",\"2015-11-22T00:00:00\",\"2015-11-24T00:00:00\",\"2015-12-02T00:00:00\",\"2015-12-03T00:00:00\",\"2015-12-10T00:00:00\",\"2015-12-11T00:00:00\",\"2015-12-20T00:00:00\",\"2015-12-21T00:00:00\",\"2015-12-24T00:00:00\",\"2015-12-25T00:00:00\",\"2015-12-29T00:00:00\",\"2015-12-30T00:00:00\",\"2016-01-14T00:00:00\",\"2016-01-20T00:00:00\",\"2016-01-22T00:00:00\",\"2016-01-25T00:00:00\",\"2016-01-26T00:00:00\",\"2016-01-27T00:00:00\",\"2016-02-01T00:00:00\",\"2016-02-06T00:00:00\",\"2016-02-10T00:00:00\",\"2016-02-11T00:00:00\",\"2016-03-08T00:00:00\",\"2016-03-10T00:00:00\",\"2016-03-17T00:00:00\",\"2016-03-23T00:00:00\",\"2016-03-24T00:00:00\",\"2016-03-28T00:00:00\",\"2016-04-04T00:00:00\",\"2016-04-13T00:00:00\",\"2016-04-15T00:00:00\",\"2016-04-25T00:00:00\",\"2016-04-26T00:00:00\",\"2016-04-27T00:00:00\",\"2016-04-28T00:00:00\",\"2016-05-05T00:00:00\",\"2016-05-16T00:00:00\",\"2016-05-24T00:00:00\",\"2016-05-28T00:00:00\",\"2016-06-02T00:00:00\",\"2016-06-05T00:00:00\",\"2016-06-07T00:00:00\",\"2016-06-08T00:00:00\",\"2016-06-11T00:00:00\",\"2016-06-16T00:00:00\",\"2016-07-01T00:00:00\",\"2016-07-07T00:00:00\",\"2016-07-11T00:00:00\",\"2016-07-12T00:00:00\",\"2016-07-13T00:00:00\",\"2016-07-14T00:00:00\",\"2016-07-20T00:00:00\",\"2016-07-21T00:00:00\",\"2016-07-25T00:00:00\",\"2016-08-01T00:00:00\",\"2016-08-11T00:00:00\",\"2016-08-12T00:00:00\",\"2016-08-13T00:00:00\",\"2016-08-17T00:00:00\",\"2016-08-18T00:00:00\",\"2016-08-22T00:00:00\",\"2016-08-24T00:00:00\",\"2016-08-26T00:00:00\",\"2016-09-13T00:00:00\",\"2016-09-16T00:00:00\",\"2016-09-18T00:00:00\",\"2016-09-20T00:00:00\",\"2016-10-05T00:00:00\",\"2016-10-10T00:00:00\",\"2016-10-12T00:00:00\",\"2016-10-17T00:00:00\",\"2016-10-18T00:00:00\",\"2016-11-09T00:00:00\",\"2016-11-24T00:00:00\",\"2016-11-28T00:00:00\",\"2016-11-30T00:00:00\",\"2016-12-01T00:00:00\",\"2016-12-06T00:00:00\",\"2016-12-09T00:00:00\",\"2016-12-18T00:00:00\",\"2016-12-21T00:00:00\",\"2017-01-02T00:00:00\",\"2017-01-09T00:00:00\",\"2017-01-10T00:00:00\",\"2017-01-12T00:00:00\",\"2017-01-15T00:00:00\",\"2017-01-28T00:00:00\",\"2017-02-01T00:00:00\",\"2017-02-19T00:00:00\",\"2017-02-26T00:00:00\",\"2017-02-28T00:00:00\",\"2017-03-05T00:00:00\",\"2017-03-08T00:00:00\",\"2017-03-10T00:00:00\",\"2017-03-11T00:00:00\",\"2017-03-14T00:00:00\",\"2017-03-16T00:00:00\",\"2017-03-18T00:00:00\",\"2017-03-27T00:00:00\",\"2017-03-30T00:00:00\",\"2017-04-02T00:00:00\",\"2017-04-03T00:00:00\",\"2017-04-08T00:00:00\",\"2017-04-10T00:00:00\",\"2017-04-13T00:00:00\",\"2017-04-14T00:00:00\",\"2017-04-21T00:00:00\",\"2017-04-24T00:00:00\",\"2017-04-26T00:00:00\",\"2017-05-02T00:00:00\",\"2017-05-11T00:00:00\",\"2017-05-16T00:00:00\",\"2017-05-17T00:00:00\",\"2017-05-18T00:00:00\",\"2017-05-25T00:00:00\",\"2017-06-01T00:00:00\",\"2017-06-05T00:00:00\",\"2017-06-12T00:00:00\",\"2017-06-13T00:00:00\",\"2017-06-14T00:00:00\",\"2017-06-19T00:00:00\",\"2017-06-25T00:00:00\",\"2017-06-28T00:00:00\",\"2017-07-03T00:00:00\",\"2017-07-04T00:00:00\",\"2017-07-06T00:00:00\",\"2017-07-09T00:00:00\",\"2017-07-14T00:00:00\",\"2017-07-20T00:00:00\",\"2017-07-22T00:00:00\",\"2017-07-23T00:00:00\",\"2017-07-25T00:00:00\",\"2017-07-30T00:00:00\",\"2017-08-02T00:00:00\",\"2017-08-10T00:00:00\",\"2017-08-13T00:00:00\",\"2017-08-14T00:00:00\",\"2017-08-17T00:00:00\",\"2017-08-18T00:00:00\",\"2017-08-21T00:00:00\",\"2017-08-23T00:00:00\",\"2017-08-26T00:00:00\",\"2017-08-29T00:00:00\",\"2017-08-30T00:00:00\",\"2017-09-07T00:00:00\",\"2017-09-10T00:00:00\",\"2017-09-12T00:00:00\",\"2017-09-18T00:00:00\",\"2017-09-22T00:00:00\",\"2017-10-02T00:00:00\",\"2017-10-04T00:00:00\",\"2017-10-05T00:00:00\",\"2017-10-06T00:00:00\",\"2017-10-07T00:00:00\",\"2017-10-09T00:00:00\",\"2017-10-10T00:00:00\",\"2017-10-16T00:00:00\",\"2017-10-19T00:00:00\",\"2017-10-20T00:00:00\",\"2017-10-26T00:00:00\",\"2017-11-02T00:00:00\",\"2017-11-20T00:00:00\",\"2017-11-21T00:00:00\",\"2017-12-03T00:00:00\",\"2017-12-04T00:00:00\",\"2017-12-09T00:00:00\",\"2017-12-15T00:00:00\",\"2017-12-21T00:00:00\",\"2017-12-28T00:00:00\",\"2018-01-04T00:00:00\",\"2018-01-11T00:00:00\",\"2018-01-12T00:00:00\",\"2018-01-16T00:00:00\",\"2018-01-21T00:00:00\",\"2018-01-25T00:00:00\",\"2018-01-31T00:00:00\",\"2018-02-02T00:00:00\",\"2018-02-07T00:00:00\",\"2018-02-10T00:00:00\",\"2018-02-12T00:00:00\",\"2018-02-13T00:00:00\",\"2018-02-17T00:00:00\",\"2018-02-19T00:00:00\",\"2018-03-02T00:00:00\",\"2018-03-03T00:00:00\",\"2018-03-06T00:00:00\",\"2018-03-27T00:00:00\",\"2018-03-30T00:00:00\",\"2018-04-02T00:00:00\",\"2018-04-09T00:00:00\",\"2018-04-12T00:00:00\",\"2018-04-18T00:00:00\",\"2018-05-12T00:00:00\",\"2018-05-14T00:00:00\",\"2018-05-20T00:00:00\",\"2018-05-27T00:00:00\",\"2018-06-10T00:00:00\",\"2018-06-15T00:00:00\",\"2018-06-16T00:00:00\",\"2018-06-23T00:00:00\",\"2018-06-30T00:00:00\",\"2018-07-02T00:00:00\",\"2018-07-06T00:00:00\",\"2018-07-07T00:00:00\",\"2018-07-12T00:00:00\",\"2018-07-14T00:00:00\",\"2018-07-21T00:00:00\",\"2018-07-24T00:00:00\",\"2018-07-26T00:00:00\",\"2018-07-28T00:00:00\",\"2018-07-30T00:00:00\",\"2018-08-01T00:00:00\",\"2018-08-02T00:00:00\",\"2018-08-03T00:00:00\",\"2018-08-09T00:00:00\",\"2018-08-10T00:00:00\",\"2018-08-21T00:00:00\",\"2018-08-24T00:00:00\",\"2018-09-03T00:00:00\",\"2018-09-07T00:00:00\",\"2018-09-19T00:00:00\",\"2018-09-20T00:00:00\",\"2018-09-28T00:00:00\",\"2018-09-30T00:00:00\",\"2018-10-04T00:00:00\",\"2018-10-05T00:00:00\",\"2018-10-07T00:00:00\",\"2018-10-11T00:00:00\",\"2018-10-13T00:00:00\",\"2018-10-18T00:00:00\",\"2018-10-22T00:00:00\",\"2018-10-25T00:00:00\",\"2018-10-26T00:00:00\",\"2018-10-31T00:00:00\",\"2018-11-01T00:00:00\",\"2018-11-06T00:00:00\",\"2018-11-11T00:00:00\",\"2018-11-13T00:00:00\",\"2018-11-27T00:00:00\",\"2018-12-06T00:00:00\",\"2018-12-07T00:00:00\",\"2018-12-14T00:00:00\",\"2018-12-19T00:00:00\",\"2018-12-26T00:00:00\",\"2019-01-02T00:00:00\",\"2019-01-08T00:00:00\",\"2019-01-11T00:00:00\",\"2019-01-17T00:00:00\",\"2019-01-22T00:00:00\",\"2019-01-23T00:00:00\",\"2019-01-25T00:00:00\",\"2019-01-26T00:00:00\",\"2019-01-30T00:00:00\",\"2019-02-23T00:00:00\",\"2019-02-26T00:00:00\",\"2019-03-06T00:00:00\",\"2019-03-07T00:00:00\",\"2019-03-14T00:00:00\",\"2019-03-15T00:00:00\",\"2019-03-16T00:00:00\",\"2019-03-22T00:00:00\",\"2019-04-09T00:00:00\",\"2019-04-12T00:00:00\",\"2019-04-21T00:00:00\",\"2019-04-23T00:00:00\",\"2019-05-03T00:00:00\",\"2019-05-09T00:00:00\",\"2019-05-11T00:00:00\",\"2019-05-14T00:00:00\",\"2019-05-15T00:00:00\",\"2019-05-16T00:00:00\",\"2019-05-17T00:00:00\",\"2019-05-18T00:00:00\",\"2019-05-20T00:00:00\",\"2019-05-24T00:00:00\",\"2019-05-27T00:00:00\",\"2019-05-31T00:00:00\",\"2019-06-03T00:00:00\",\"2019-06-06T00:00:00\",\"2019-06-11T00:00:00\",\"2019-06-15T00:00:00\",\"2019-06-21T00:00:00\",\"2019-06-22T00:00:00\",\"2019-06-23T00:00:00\",\"2019-06-29T00:00:00\",\"2019-07-02T00:00:00\",\"2019-07-04T00:00:00\",\"2019-07-08T00:00:00\",\"2019-07-09T00:00:00\",\"2019-07-10T00:00:00\",\"2019-07-11T00:00:00\",\"2019-07-12T00:00:00\",\"2019-07-13T00:00:00\",\"2019-07-14T00:00:00\",\"2019-07-15T00:00:00\",\"2019-07-17T00:00:00\",\"2019-07-20T00:00:00\",\"2019-07-21T00:00:00\",\"2019-07-28T00:00:00\",\"2019-07-29T00:00:00\",\"2019-08-02T00:00:00\",\"2019-08-03T00:00:00\",\"2019-08-07T00:00:00\",\"2019-08-12T00:00:00\",\"2019-08-15T00:00:00\",\"2019-08-17T00:00:00\",\"2019-08-20T00:00:00\",\"2019-08-23T00:00:00\",\"2019-08-27T00:00:00\",\"2019-08-28T00:00:00\",\"2019-08-29T00:00:00\",\"2019-09-02T00:00:00\",\"2019-09-04T00:00:00\",\"2019-09-07T00:00:00\",\"2019-09-10T00:00:00\",\"2019-09-12T00:00:00\",\"2019-09-14T00:00:00\",\"2019-09-16T00:00:00\",\"2019-09-20T00:00:00\",\"2019-09-27T00:00:00\",\"2019-09-28T00:00:00\",\"2019-10-03T00:00:00\",\"2019-10-06T00:00:00\",\"2019-10-08T00:00:00\",\"2019-10-11T00:00:00\",\"2019-10-12T00:00:00\",\"2019-10-15T00:00:00\",\"2019-10-16T00:00:00\",\"2019-10-23T00:00:00\",\"2019-10-28T00:00:00\",\"2019-10-29T00:00:00\",\"2019-11-01T00:00:00\",\"2019-11-03T00:00:00\",\"2019-11-07T00:00:00\",\"2019-11-12T00:00:00\"],\"y\":[3,6,1,2,1,2,1,4,2,2,1,1,1,1,1,1,1,1,1,1,1,1,1,1,1,1,1,1,1,1,1,1,1,1,1,2,2,1,1,2,2,1,1,1,1,2,1,1,1,1,1,1,1,1,1,1,1,1,3,1,1,1,2,1,1,1,1,1,1,1,1,1,1,1,1,1,1,1,1,1,1,1,1,1,1,2,1,1,2,1,1,2,1,1,1,1,1,1,1,1,1,1,1,1,1,1,1,1,1,1,1,1,1,1,1,2,1,1,1,1,1,1,1,2,1,1,1,1,1,1,1,1,1,1,1,1,1,1,1,2,1,1,1,1,1,1,1,3,1,1,1,1,1,1,1,1,1,1,1,1,1,1,1,1,4,1,1,3,1,2,1,1,2,1,1,1,2,1,1,1,1,1,1,1,1,1,1,1,1,1,1,1,1,2,1,1,2,1,1,1,1,1,1,1,1,1,1,1,1,1,1,1,2,1,1,1,1,1,3,1,1,1,1,1,1,1,1,1,1,1,2,1,1,1,1,1,1,1,1,1,1,1,1,1,1,1,1,1,1,1,2,1,1,1,1,1,1,1,2,1,1,1,1,2,1,1,1,1,3,1,1,1,1,1,1,1,1,1,1,1,1,1,1,1,1,1,1,1,1,1,1,1,1,1,1,1,1,3,1,1,1,1,1,1,1,1,1,2,1,1,1,1,1,1,1,1,1,1,1,1,1,1,1,1,1,2,1,1,1,1,2,1,1,1,1,1,1,1,1,1,1,2,1,2,1,2,1,1,1,1,1,2,1,1,1,1,1,1,1,2,1,1,1,1,1,1,2,1,2,4,1,1,2,2,1,1,1,1,1,1,3,1,1,1,1,1,2,1,1,1,1,1,1,1,1,1,1,1,1,1,1,1,2,1,1,2,1,1,2,1],\"name\":\"created by month\"},{\"type\":\"scattergl\",\"x\":[\"2015-01-13T00:00:00\",\"2015-01-14T00:00:00\",\"2015-01-15T00:00:00\",\"2015-01-16T00:00:00\",\"2015-01-18T00:00:00\",\"2015-01-19T00:00:00\",\"2015-01-20T00:00:00\",\"2015-01-21T00:00:00\",\"2015-01-23T00:00:00\",\"2015-01-24T00:00:00\",\"2015-01-25T00:00:00\",\"2015-01-28T00:00:00\",\"2015-01-29T00:00:00\",\"2015-02-02T00:00:00\",\"2015-02-04T00:00:00\",\"2015-02-08T00:00:00\",\"2015-02-12T00:00:00\",\"2015-02-13T00:00:00\",\"2015-02-19T00:00:00\",\"2015-02-21T00:00:00\",\"2015-02-26T00:00:00\",\"2015-03-01T00:00:00\",\"2015-03-10T00:00:00\",\"2015-03-14T00:00:00\",\"2015-03-15T00:00:00\",\"2015-03-16T00:00:00\",\"2015-03-19T00:00:00\",\"2015-03-25T00:00:00\",\"2015-03-28T00:00:00\",\"2015-03-30T00:00:00\",\"2015-04-12T00:00:00\",\"2015-04-13T00:00:00\",\"2015-04-14T00:00:00\",\"2015-04-18T00:00:00\",\"2015-04-23T00:00:00\",\"2015-04-24T00:00:00\",\"2015-04-26T00:00:00\",\"2015-04-28T00:00:00\",\"2015-05-01T00:00:00\",\"2015-05-04T00:00:00\",\"2015-05-06T00:00:00\",\"2015-05-11T00:00:00\",\"2015-05-18T00:00:00\",\"2015-05-22T00:00:00\",\"2015-06-01T00:00:00\",\"2015-06-11T00:00:00\",\"2015-06-21T00:00:00\",\"2015-06-22T00:00:00\",\"2015-07-01T00:00:00\",\"2015-07-05T00:00:00\",\"2015-07-25T00:00:00\",\"2015-08-04T00:00:00\",\"2015-08-09T00:00:00\",\"2015-08-12T00:00:00\",\"2015-08-13T00:00:00\",\"2015-08-30T00:00:00\",\"2015-09-03T00:00:00\",\"2015-09-04T00:00:00\",\"2015-09-05T00:00:00\",\"2015-09-18T00:00:00\",\"2015-09-19T00:00:00\",\"2015-09-23T00:00:00\",\"2015-09-28T00:00:00\",\"2015-09-29T00:00:00\",\"2015-10-06T00:00:00\",\"2015-10-09T00:00:00\",\"2015-10-10T00:00:00\",\"2015-10-15T00:00:00\",\"2015-10-16T00:00:00\",\"2015-10-17T00:00:00\",\"2015-10-23T00:00:00\",\"2015-10-28T00:00:00\",\"2015-10-30T00:00:00\",\"2015-11-02T00:00:00\",\"2015-11-05T00:00:00\",\"2015-11-22T00:00:00\",\"2015-11-24T00:00:00\",\"2015-12-02T00:00:00\",\"2015-12-03T00:00:00\",\"2015-12-10T00:00:00\",\"2015-12-11T00:00:00\",\"2015-12-20T00:00:00\",\"2015-12-21T00:00:00\",\"2015-12-24T00:00:00\",\"2015-12-25T00:00:00\",\"2015-12-29T00:00:00\",\"2015-12-30T00:00:00\",\"2016-01-14T00:00:00\",\"2016-01-20T00:00:00\",\"2016-01-22T00:00:00\",\"2016-01-25T00:00:00\",\"2016-01-26T00:00:00\",\"2016-01-27T00:00:00\",\"2016-02-01T00:00:00\",\"2016-02-06T00:00:00\",\"2016-02-10T00:00:00\",\"2016-02-11T00:00:00\",\"2016-03-08T00:00:00\",\"2016-03-10T00:00:00\",\"2016-03-17T00:00:00\",\"2016-03-23T00:00:00\",\"2016-03-24T00:00:00\",\"2016-03-28T00:00:00\",\"2016-04-04T00:00:00\",\"2016-04-13T00:00:00\",\"2016-04-15T00:00:00\",\"2016-04-25T00:00:00\",\"2016-04-26T00:00:00\",\"2016-04-27T00:00:00\",\"2016-04-28T00:00:00\",\"2016-05-05T00:00:00\",\"2016-05-16T00:00:00\",\"2016-05-24T00:00:00\",\"2016-05-28T00:00:00\",\"2016-06-02T00:00:00\",\"2016-06-05T00:00:00\",\"2016-06-07T00:00:00\",\"2016-06-08T00:00:00\",\"2016-06-11T00:00:00\",\"2016-06-16T00:00:00\",\"2016-07-01T00:00:00\",\"2016-07-07T00:00:00\",\"2016-07-11T00:00:00\",\"2016-07-12T00:00:00\",\"2016-07-13T00:00:00\",\"2016-07-14T00:00:00\",\"2016-07-20T00:00:00\",\"2016-07-21T00:00:00\",\"2016-07-25T00:00:00\",\"2016-08-01T00:00:00\",\"2016-08-11T00:00:00\",\"2016-08-12T00:00:00\",\"2016-08-13T00:00:00\",\"2016-08-17T00:00:00\",\"2016-08-18T00:00:00\",\"2016-08-22T00:00:00\",\"2016-08-24T00:00:00\",\"2016-08-26T00:00:00\",\"2016-09-13T00:00:00\",\"2016-09-16T00:00:00\",\"2016-09-18T00:00:00\",\"2016-09-20T00:00:00\",\"2016-10-05T00:00:00\",\"2016-10-10T00:00:00\",\"2016-10-12T00:00:00\",\"2016-10-17T00:00:00\",\"2016-10-18T00:00:00\",\"2016-11-09T00:00:00\",\"2016-11-24T00:00:00\",\"2016-11-28T00:00:00\",\"2016-11-30T00:00:00\",\"2016-12-01T00:00:00\",\"2016-12-06T00:00:00\",\"2016-12-09T00:00:00\",\"2016-12-18T00:00:00\",\"2016-12-21T00:00:00\",\"2017-01-02T00:00:00\",\"2017-01-09T00:00:00\",\"2017-01-10T00:00:00\",\"2017-01-12T00:00:00\",\"2017-01-15T00:00:00\",\"2017-01-28T00:00:00\",\"2017-02-01T00:00:00\",\"2017-02-19T00:00:00\",\"2017-02-26T00:00:00\",\"2017-02-28T00:00:00\",\"2017-03-05T00:00:00\",\"2017-03-08T00:00:00\",\"2017-03-10T00:00:00\",\"2017-03-11T00:00:00\",\"2017-03-14T00:00:00\",\"2017-03-16T00:00:00\",\"2017-03-18T00:00:00\",\"2017-03-27T00:00:00\",\"2017-03-30T00:00:00\",\"2017-04-02T00:00:00\",\"2017-04-03T00:00:00\",\"2017-04-08T00:00:00\",\"2017-04-10T00:00:00\",\"2017-04-13T00:00:00\",\"2017-04-14T00:00:00\",\"2017-04-21T00:00:00\",\"2017-04-24T00:00:00\",\"2017-04-26T00:00:00\",\"2017-05-02T00:00:00\",\"2017-05-11T00:00:00\",\"2017-05-16T00:00:00\",\"2017-05-17T00:00:00\",\"2017-05-18T00:00:00\",\"2017-05-25T00:00:00\",\"2017-06-01T00:00:00\",\"2017-06-05T00:00:00\",\"2017-06-12T00:00:00\",\"2017-06-13T00:00:00\",\"2017-06-14T00:00:00\",\"2017-06-19T00:00:00\",\"2017-06-25T00:00:00\",\"2017-06-28T00:00:00\",\"2017-07-03T00:00:00\",\"2017-07-04T00:00:00\",\"2017-07-06T00:00:00\",\"2017-07-09T00:00:00\",\"2017-07-14T00:00:00\",\"2017-07-20T00:00:00\",\"2017-07-22T00:00:00\",\"2017-07-23T00:00:00\",\"2017-07-25T00:00:00\",\"2017-07-30T00:00:00\",\"2017-08-02T00:00:00\",\"2017-08-10T00:00:00\",\"2017-08-13T00:00:00\",\"2017-08-14T00:00:00\",\"2017-08-17T00:00:00\",\"2017-08-18T00:00:00\",\"2017-08-21T00:00:00\",\"2017-08-23T00:00:00\",\"2017-08-26T00:00:00\",\"2017-08-29T00:00:00\",\"2017-08-30T00:00:00\",\"2017-09-07T00:00:00\",\"2017-09-10T00:00:00\",\"2017-09-12T00:00:00\",\"2017-09-18T00:00:00\",\"2017-09-22T00:00:00\",\"2017-10-02T00:00:00\",\"2017-10-04T00:00:00\",\"2017-10-05T00:00:00\",\"2017-10-06T00:00:00\",\"2017-10-07T00:00:00\",\"2017-10-09T00:00:00\",\"2017-10-10T00:00:00\",\"2017-10-16T00:00:00\",\"2017-10-19T00:00:00\",\"2017-10-20T00:00:00\",\"2017-10-26T00:00:00\",\"2017-11-02T00:00:00\",\"2017-11-20T00:00:00\",\"2017-11-21T00:00:00\",\"2017-12-03T00:00:00\",\"2017-12-04T00:00:00\",\"2017-12-09T00:00:00\",\"2017-12-15T00:00:00\",\"2017-12-21T00:00:00\",\"2017-12-28T00:00:00\",\"2018-01-04T00:00:00\",\"2018-01-11T00:00:00\",\"2018-01-12T00:00:00\",\"2018-01-16T00:00:00\",\"2018-01-21T00:00:00\",\"2018-01-25T00:00:00\",\"2018-01-31T00:00:00\",\"2018-02-02T00:00:00\",\"2018-02-07T00:00:00\",\"2018-02-10T00:00:00\",\"2018-02-12T00:00:00\",\"2018-02-13T00:00:00\",\"2018-02-17T00:00:00\",\"2018-02-19T00:00:00\",\"2018-03-02T00:00:00\",\"2018-03-03T00:00:00\",\"2018-03-06T00:00:00\",\"2018-03-27T00:00:00\",\"2018-03-30T00:00:00\",\"2018-04-02T00:00:00\",\"2018-04-09T00:00:00\",\"2018-04-12T00:00:00\",\"2018-04-18T00:00:00\",\"2018-05-12T00:00:00\",\"2018-05-14T00:00:00\",\"2018-05-20T00:00:00\",\"2018-05-27T00:00:00\",\"2018-06-10T00:00:00\",\"2018-06-15T00:00:00\",\"2018-06-16T00:00:00\",\"2018-06-23T00:00:00\",\"2018-06-30T00:00:00\",\"2018-07-02T00:00:00\",\"2018-07-06T00:00:00\",\"2018-07-07T00:00:00\",\"2018-07-12T00:00:00\",\"2018-07-14T00:00:00\",\"2018-07-21T00:00:00\",\"2018-07-24T00:00:00\",\"2018-07-26T00:00:00\",\"2018-07-28T00:00:00\",\"2018-07-30T00:00:00\",\"2018-08-01T00:00:00\",\"2018-08-02T00:00:00\",\"2018-08-03T00:00:00\",\"2018-08-09T00:00:00\",\"2018-08-10T00:00:00\",\"2018-08-21T00:00:00\",\"2018-08-24T00:00:00\",\"2018-09-03T00:00:00\",\"2018-09-07T00:00:00\",\"2018-09-19T00:00:00\",\"2018-09-20T00:00:00\",\"2018-09-28T00:00:00\",\"2018-09-30T00:00:00\",\"2018-10-04T00:00:00\",\"2018-10-05T00:00:00\",\"2018-10-07T00:00:00\",\"2018-10-11T00:00:00\",\"2018-10-13T00:00:00\",\"2018-10-18T00:00:00\",\"2018-10-22T00:00:00\",\"2018-10-25T00:00:00\",\"2018-10-26T00:00:00\",\"2018-10-31T00:00:00\",\"2018-11-01T00:00:00\",\"2018-11-06T00:00:00\",\"2018-11-11T00:00:00\",\"2018-11-13T00:00:00\",\"2018-11-27T00:00:00\",\"2018-12-06T00:00:00\",\"2018-12-07T00:00:00\",\"2018-12-14T00:00:00\",\"2018-12-19T00:00:00\",\"2018-12-26T00:00:00\",\"2019-01-02T00:00:00\",\"2019-01-08T00:00:00\",\"2019-01-11T00:00:00\",\"2019-01-17T00:00:00\",\"2019-01-22T00:00:00\",\"2019-01-23T00:00:00\",\"2019-01-25T00:00:00\",\"2019-01-26T00:00:00\",\"2019-01-30T00:00:00\",\"2019-02-23T00:00:00\",\"2019-02-26T00:00:00\",\"2019-03-06T00:00:00\",\"2019-03-07T00:00:00\",\"2019-03-14T00:00:00\",\"2019-03-15T00:00:00\",\"2019-03-16T00:00:00\",\"2019-03-22T00:00:00\",\"2019-04-09T00:00:00\",\"2019-04-12T00:00:00\",\"2019-04-21T00:00:00\",\"2019-04-23T00:00:00\",\"2019-05-03T00:00:00\",\"2019-05-09T00:00:00\",\"2019-05-11T00:00:00\",\"2019-05-14T00:00:00\",\"2019-05-15T00:00:00\",\"2019-05-16T00:00:00\",\"2019-05-17T00:00:00\",\"2019-05-18T00:00:00\",\"2019-05-20T00:00:00\",\"2019-05-24T00:00:00\",\"2019-05-27T00:00:00\",\"2019-05-31T00:00:00\",\"2019-06-03T00:00:00\",\"2019-06-06T00:00:00\",\"2019-06-11T00:00:00\",\"2019-06-15T00:00:00\",\"2019-06-21T00:00:00\",\"2019-06-22T00:00:00\",\"2019-06-23T00:00:00\",\"2019-06-29T00:00:00\",\"2019-07-02T00:00:00\",\"2019-07-04T00:00:00\",\"2019-07-08T00:00:00\",\"2019-07-09T00:00:00\",\"2019-07-10T00:00:00\",\"2019-07-11T00:00:00\",\"2019-07-12T00:00:00\",\"2019-07-13T00:00:00\",\"2019-07-14T00:00:00\",\"2019-07-15T00:00:00\",\"2019-07-17T00:00:00\",\"2019-07-20T00:00:00\",\"2019-07-21T00:00:00\",\"2019-07-28T00:00:00\",\"2019-07-29T00:00:00\",\"2019-08-02T00:00:00\",\"2019-08-03T00:00:00\",\"2019-08-07T00:00:00\",\"2019-08-12T00:00:00\",\"2019-08-15T00:00:00\",\"2019-08-17T00:00:00\",\"2019-08-20T00:00:00\",\"2019-08-23T00:00:00\",\"2019-08-27T00:00:00\",\"2019-08-28T00:00:00\",\"2019-08-29T00:00:00\",\"2019-09-02T00:00:00\",\"2019-09-04T00:00:00\",\"2019-09-07T00:00:00\",\"2019-09-10T00:00:00\",\"2019-09-12T00:00:00\",\"2019-09-14T00:00:00\",\"2019-09-16T00:00:00\",\"2019-09-20T00:00:00\",\"2019-09-27T00:00:00\",\"2019-09-28T00:00:00\",\"2019-10-03T00:00:00\",\"2019-10-06T00:00:00\",\"2019-10-08T00:00:00\",\"2019-10-11T00:00:00\",\"2019-10-12T00:00:00\",\"2019-10-15T00:00:00\",\"2019-10-16T00:00:00\",\"2019-10-23T00:00:00\",\"2019-10-28T00:00:00\",\"2019-10-29T00:00:00\",\"2019-11-01T00:00:00\",\"2019-11-03T00:00:00\",\"2019-11-07T00:00:00\",\"2019-11-12T00:00:00\"],\"y\":[3,6,1,2,1,2,1,4,2,2,1,1,1,1,1,1,1,1,1,1,1,1,1,1,1,1,1,1,1,1,1,1,1,1,1,2,2,1,1,2,2,1,1,1,1,2,1,1,1,1,1,1,1,1,1,1,1,1,3,1,1,1,2,1,1,1,1,1,1,1,1,1,1,1,1,1,1,1,1,1,1,1,1,1,1,2,1,1,2,1,1,2,1,1,1,1,1,1,1,1,1,1,1,1,1,1,1,1,1,1,1,1,1,1,1,2,1,1,1,1,1,1,1,2,1,1,1,1,1,1,1,1,1,1,1,1,1,1,1,2,1,1,1,1,1,1,1,3,1,1,1,1,1,1,1,1,1,1,1,1,1,1,1,1,4,1,1,3,1,2,1,1,2,1,1,1,2,1,1,1,1,1,1,1,1,1,1,1,1,1,1,1,1,2,1,1,2,1,1,1,1,1,1,1,1,1,1,1,1,1,1,1,2,1,1,1,1,1,3,1,1,1,1,1,1,1,1,1,1,1,2,1,1,1,1,1,1,1,1,1,1,1,1,1,1,1,1,1,1,1,2,1,1,1,1,1,1,1,2,1,1,1,1,2,1,1,1,1,3,1,1,1,1,1,1,1,1,1,1,1,1,1,1,1,1,1,1,1,1,1,1,1,1,1,1,1,1,3,1,1,1,1,1,1,1,1,1,2,1,1,1,1,1,1,1,1,1,1,1,1,1,1,1,1,1,2,1,1,1,1,2,1,1,1,1,1,1,1,1,1,1,2,1,2,1,2,1,1,1,1,1,2,1,1,1,1,1,1,1,2,1,1,1,1,1,1,2,1,2,4,1,1,2,2,1,1,1,1,1,1,3,1,1,1,1,1,2,1,1,1,1,1,1,1,1,1,1,1,1,1,1,1,2,1,1,2,1,1,2,1],\"name\":\"running total\"},{\"type\":\"scattergl\",\"x\":[\"2019-05-15T00:00:00\",\"2019-05-16T00:00:00\",\"2019-05-17T00:00:00\",\"2019-05-18T00:00:00\",\"2019-05-24T00:00:00\",\"2019-05-27T00:00:00\",\"2019-05-31T00:00:00\",\"2019-06-03T00:00:00\",\"2019-06-06T00:00:00\",\"2019-06-11T00:00:00\",\"2019-06-12T00:00:00\",\"2019-06-15T00:00:00\",\"2019-06-21T00:00:00\",\"2019-06-22T00:00:00\",\"2019-06-28T00:00:00\",\"2019-06-29T00:00:00\",\"2019-07-02T00:00:00\",\"2019-07-04T00:00:00\",\"2019-07-08T00:00:00\",\"2019-07-09T00:00:00\",\"2019-07-10T00:00:00\",\"2019-07-11T00:00:00\",\"2019-07-12T00:00:00\",\"2019-07-13T00:00:00\",\"2019-07-14T00:00:00\",\"2019-07-15T00:00:00\",\"2019-07-17T00:00:00\",\"2019-07-19T00:00:00\",\"2019-07-20T00:00:00\",\"2019-07-21T00:00:00\",\"2019-07-28T00:00:00\",\"2019-07-29T00:00:00\",\"2019-08-02T00:00:00\",\"2019-08-03T00:00:00\",\"2019-08-07T00:00:00\",\"2019-08-11T00:00:00\",\"2019-08-15T00:00:00\",\"2019-08-17T00:00:00\",\"2019-08-20T00:00:00\",\"2019-08-23T00:00:00\",\"2019-08-27T00:00:00\",\"2019-08-29T00:00:00\",\"2019-08-31T00:00:00\",\"2019-09-02T00:00:00\",\"2019-09-03T00:00:00\",\"2019-09-04T00:00:00\",\"2019-09-07T00:00:00\",\"2019-09-10T00:00:00\",\"2019-09-12T00:00:00\",\"2019-09-14T00:00:00\",\"2019-09-16T00:00:00\",\"2019-09-19T00:00:00\",\"2019-09-20T00:00:00\",\"2019-09-25T00:00:00\",\"2019-09-27T00:00:00\",\"2019-09-28T00:00:00\",\"2019-10-02T00:00:00\",\"2019-10-03T00:00:00\",\"2019-10-06T00:00:00\",\"2019-10-08T00:00:00\",\"2019-10-09T00:00:00\",\"2019-10-12T00:00:00\",\"2019-10-15T00:00:00\",\"2019-10-16T00:00:00\",\"2019-10-21T00:00:00\",\"2019-10-22T00:00:00\",\"2019-10-23T00:00:00\",\"2019-10-27T00:00:00\",\"2019-10-28T00:00:00\",\"2019-10-29T00:00:00\",\"2019-10-31T00:00:00\",\"2019-11-01T00:00:00\",\"2019-11-03T00:00:00\",\"2019-11-07T00:00:00\",\"2019-11-12T00:00:00\"],\"y\":[379,2,2,1,1,1,2,1,1,1,1,2,1,1,1,2,1,1,1,1,1,1,3,1,1,3,1,1,1,2,2,1,1,1,1,1,1,2,1,1,1,1,1,3,1,1,3,1,1,1,2,1,2,1,1,2,1,1,2,1,1,2,2,2,1,2,1,1,1,3,1,1,1,3,2],\"name\":\"last updated by month\"}];\n",
       "            var layout = {\"title\":\"Fork activity\"};\n",
       "            Plotly.newPlot('1bf98df4-f1d3-48e0-a982-006fd92029ae', data, layout);\n",
       "        });\r\n",
       "};\r\n",
       "if ((typeof(requirejs) !==  typeof(Function)) || (typeof(requirejs.config) !== typeof(Function))) { \r\n",
       "    var script = document.createElement(\"script\"); \r\n",
       "    script.setAttribute(\"src\", \"https://cdnjs.cloudflare.com/ajax/libs/require.js/2.3.6/require.min.js\"); \r\n",
       "    script.onload = function(){\r\n",
       "        renderPlotly();\r\n",
       "    };\r\n",
       "    document.getElementsByTagName(\"head\")[0].appendChild(script); \r\n",
       "}\r\n",
       "else {\r\n",
       "    renderPlotly();\r\n",
       "}\n",
       "</script>"
      ]
     },
     "execution_count": 140,
     "metadata": {},
     "output_type": "execute_result"
    }
   ],
   "source": [
    "let forksCreatedByMonth =\n",
    "    forks\n",
    "    |> Seq.groupBy (fun f -> DateTime(f.CreatedAt.Year, f.CreatedAt.Month,  f.CreatedAt.Day))\n",
    "    |> Seq.map (fun (key, issues) -> {| Date = key; Count = issues.Count() |})\n",
    "    |> Seq.sortBy (fun g -> g.Date)\n",
    "\n",
    "let forksLastUpdateByMonth =\n",
    "    forks\n",
    "    |> Seq.groupBy (fun f -> DateTime(f.UpdatedAt.Year, f.UpdatedAt.Month,  f.UpdatedAt.Day))\n",
    "    |> Seq.map (fun (key, issues) -> {| Date = key; Count = issues.Count() |})\n",
    "    |> Seq.sortBy (fun g -> g.Date)\n",
    "\n",
    "let forkCountByMonth =\n",
    "    forksCreatedByMonth\n",
    "    |> Seq.sortBy (fun g -> g.Date)\n",
    "    |> Seq.map (fun g -> {| Date = g.Date; Count = g.Count |})\n",
    "\n",
    "let forkCreationSeries =\n",
    "    Graph.Scattergl(\n",
    "        name = \"created by month\",\n",
    "        x = (forksCreatedByMonth |> Seq.map (fun g -> g.Date)),\n",
    "        y = (forksCreatedByMonth |> Seq.map (fun g -> g.Count)))\n",
    "\n",
    "let forkTotalSeries =\n",
    "    Graph.Scattergl(\n",
    "        name = \"running total\",\n",
    "        x = (forkCountByMonth |> Seq.map (fun g -> g.Date)),\n",
    "        y = (forkCountByMonth |> Seq.map (fun g -> g.Count)))\n",
    "\n",
    "let forkUpdateSeries =\n",
    "    Graph.Scattergl(\n",
    "        name = \"last updated by month\",\n",
    "        x = (forksLastUpdateByMonth |> Seq.map (fun g -> g.Date)),\n",
    "        y = (forksLastUpdateByMonth |> Seq.map (fun g -> g.Count)))\n",
    "\n",
    "[forkCreationSeries; forkTotalSeries; forkUpdateSeries]\n",
    "|> Chart.Plot\n",
    "|> Chart.WithTitle(\"Fork activity\")"
   ]
  }
 ],
 "metadata": {
  "kernelspec": {
   "display_name": ".NET (F#)",
   "language": "F#",
   "name": ".net-fsharp"
  },
  "language_info": {
   "file_extension": ".fs",
   "mimetype": "text/x-fsharp",
   "name": "C#",
   "pygments_lexer": "fsharp",
   "version": "4.5"
  }
 },
 "nbformat": 4,
 "nbformat_minor": 4
}
